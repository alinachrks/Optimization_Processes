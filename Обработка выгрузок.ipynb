{
 "cells": [
  {
   "cell_type": "markdown",
   "id": "a2d6616d",
   "metadata": {},
   "source": [
    "## Выгрузки по проектам"
   ]
  },
  {
   "cell_type": "code",
   "execution_count": 35,
   "id": "8cb6bad3",
   "metadata": {},
   "outputs": [
    {
     "name": "stdout",
     "output_type": "stream",
     "text": [
      "\n",
      "Введите имя файла (выгрузки): PMI_ToiMart_Февраль_2023_11472_eR9JjdL\n"
     ]
    }
   ],
   "source": [
    "import xlsxwriter\n",
    "import openpyxl\n",
    "import pandas as pd\n",
    "import numpy as np\n",
    "from datetime import datetime as dt\n",
    "import warnings\n",
    "warnings.filterwarnings('ignore')\n",
    "import openpyxl\n",
    "from openpyxl.styles import Font, PatternFill, Border, Side, Alignment\n",
    "\n",
    "name = input('\\n'+ 'Введите имя файла (выгрузки): ')\n",
    "name = name + '.xlsx'\n",
    "def parse_date(date_string):\n",
    "    return pd.to_datetime(date_string, format='%d.%m.%Y %H:%M')\n",
    "\n",
    "df = pd.read_excel(name, converters={'Дата окончания работы': parse_date,\n",
    "                                                  'Дата начала работы': parse_date})"
   ]
  },
  {
   "cell_type": "code",
   "execution_count": 36,
   "id": "0a3e4bf8",
   "metadata": {},
   "outputs": [],
   "source": [
    "if 'Выберите анкету : До работы' in df.columns:\n",
    "    before_col = 'Выберите анкету : До работы'\n",
    "elif 'Анкета : До работы' in df.columns:\n",
    "    before_col = 'Анкета : До работы'\n",
    "elif 'Выберите Анкету : До Работы' in df.columns:\n",
    "    before_col = 'Выберите Анкету : До Работы'\n",
    "elif 'Выберите Анкету : До работы' in df.columns:\n",
    "    before_col = 'Выберите Анкету : До работы'\n",
    "elif 'Выберите aнкету : До Работы' in df.columns:\n",
    "    before_col = 'Выберите aнкету : До Работы'\n",
    "elif 'выберите анкету : до работы' in df.columns:\n",
    "    before_col = 'выберите анкету : до работы'\n",
    "elif 'Выберите анкету : До Работы' in df.columns:\n",
    "    before_col = 'Выберите анкету : До Работы'\n",
    "elif 'выберите анкету : до работы' in df.columns:\n",
    "    before_col = 'выберите анкету : до работы'\n",
    "else:\n",
    "    print('\\n'+\"Столбец с именем 'Анкета : До работы' или 'Выберите анкету : До работы' не найден!\"+'\\n')\n",
    "    before_col = input('Введите имя столбца с информацией о том, что анкета до работы: ')"
   ]
  },
  {
   "cell_type": "code",
   "execution_count": 37,
   "id": "b40fc7cd",
   "metadata": {
    "scrolled": true
   },
   "outputs": [],
   "source": [
    "df['Исполнитель'] = df['Исполнитель'].apply(lambda x: x.replace('@contineo.kz', ''))\n",
    "\n",
    "df['Дата'] = df['Дата начала работы'].dt.date\n",
    "df['Дата'] = pd.to_datetime(df['Дата'])\n",
    "                                                      \n",
    "df = df.drop_duplicates(subset=['ID анкеты'])\n",
    "\n",
    "df['Тип анкеты'] = np.where(df[before_col] == 1, 'До', 'После')\n",
    "\n",
    "# group the data by 'Point: Code' and 'Work start date'\n",
    "grouped = df.groupby(['Точка: Код', 'Дата'])\n",
    "\n",
    "# count the number of 'Before' and 'After' questionnaires for each group\n",
    "counts = grouped['Тип анкеты'].value_counts()\n",
    "\n",
    "# create an empty 'Check' column\n",
    "df['Проверка'] = ''\n",
    "\n",
    "# create a DataFrame with the total counts for each day and point\n",
    "total_counts = df.groupby(['Точка: Код', 'Дата']).size().reset_index(name='Total')\n",
    "\n",
    "for index, row in total_counts.iterrows():\n",
    "    point_code = row['Точка: Код']\n",
    "    work_date = row['Дата']\n",
    "    total_count = row['Total']\n",
    "    before_count = counts[point_code, work_date, 'До'] if (point_code, work_date, 'До') in counts else 0\n",
    "    after_count = counts[point_code, work_date, 'После'] if (point_code, work_date, 'После') in counts else 0\n",
    "    if total_count == 2 and before_count == 1 and after_count == 1:\n",
    "        df.loc[(df['Точка: Код'] == point_code) & (df['Дата'] == work_date), 'Проверка'] = 'Правильно'\n",
    "    elif total_count == 2 and before_count == 2:\n",
    "        df.loc[(df['Точка: Код'] == point_code) & (df['Дата'] == work_date), 'Проверка'] = 'Анкет \"До\" больше одной, не хватает \"После\"'\n",
    "    elif total_count == 2 and after_count == 2:\n",
    "        df.loc[(df['Точка: Код'] == point_code) & (df['Дата'] == work_date), 'Проверка'] = 'Анкет \"После\" больше одной, не хватает \"До\"'    \n",
    "    elif total_count < 2:\n",
    "        if before_count == 0:\n",
    "            df.loc[(df['Точка: Код'] == point_code) & (df['Дата'] == work_date), 'Проверка'] = 'Не хватает анкеты \"До\"'\n",
    "        elif after_count == 0:\n",
    "            df.loc[(df['Точка: Код'] == point_code) & (df['Дата'] == work_date), 'Проверка'] = 'Не хватает анкеты \"После\"'\n",
    "        elif before_count == 1:\n",
    "            df.loc[(df['Точка: Код'] == point_code) & (df['Дата'] == work_date), 'Проверка'] = 'Одна анкета \"До\"'\n",
    "        elif after_count == 1:\n",
    "            df.loc[(df['Точка: Код'] == point_code) & (df['Дата'] == work_date), 'Проверка'] = 'Одна анкета \"После\"'\n",
    "        else:\n",
    "            print(total_count, before_count, after_count)\n",
    "    elif total_count > 2:\n",
    "        if before_count > 1:\n",
    "            df.loc[(df['Точка: Код'] == point_code) & (df['Дата'] == work_date), 'Проверка'] = 'Анкет \"До\" больше одной'\n",
    "        elif after_count > 1:\n",
    "            df.loc[(df['Точка: Код'] == point_code) & (df['Дата'] == work_date), 'Проверка'] = 'Анкет \"После\" больше одной'"
   ]
  },
  {
   "cell_type": "code",
   "execution_count": 38,
   "id": "4a85235b",
   "metadata": {},
   "outputs": [],
   "source": [
    "type_col = df.pop(\"Тип анкеты\")\n",
    "check_col = df.pop(\"Проверка\")\n",
    "date_col = df.pop(\"Дата\")\n",
    "\n",
    "df.insert(15, \"Дата сохранения анкеты\", df.pop(\"Дата сохранения анкеты\"))\n",
    "df.insert(15, \"Дата окончания работы\", df.pop(\"Дата окончания работы\"))\n",
    "df.insert(15, \"Дата начала работы\", df.pop(\"Дата начала работы\"))\n",
    "\n",
    "df.insert(15, \"Дата сохранения анкеты\", df.pop(\"Дата сохранения анкеты\"))\n",
    "df.insert(16, \"Тип анкеты\", type_col)\n",
    "df.insert(17, \"Проверка\", check_col)\n",
    "df.insert(18, \"Дата\", date_col)\n",
    "\n",
    "df = df.sort_values(['Дата', 'Точка: Customer Name', 'Тип анкеты'])\n",
    "\n",
    "with pd.ExcelWriter('new_format_'+name, engine='openpyxl') as writer:\n",
    "    df.to_excel(writer, sheet_name='Данные', index=False)\n",
    "    workbook = writer.book\n",
    "    worksheet = writer.sheets['Данные']\n",
    "    worksheet.column_dimensions['A'].width = 30"
   ]
  },
  {
   "cell_type": "markdown",
   "id": "67d8886f",
   "metadata": {},
   "source": [
    "### Список исполнителей, которые совершают ошибки"
   ]
  },
  {
   "cell_type": "code",
   "execution_count": 39,
   "id": "7ead18ea",
   "metadata": {},
   "outputs": [],
   "source": [
    "# read the Excel file with the processed data\n",
    "df = pd.read_excel('new_format_' + name)\n",
    "\n",
    "# create a new sheet in the Excel file\n",
    "writer = pd.ExcelWriter('new_format_' + name, engine='xlsxwriter')\n",
    "df.to_excel(writer, sheet_name='Данные', index=False)\n",
    "\n",
    "# group the data by 'Исполнитель', 'Point: Code', 'Дата' and 'Проверка'\n",
    "grouped = df.groupby(['Исполнитель', 'Точка: Код', 'Дата', 'Проверка']).size().reset_index(name='Count')\n",
    "\n",
    "# select the desired columns\n",
    "result = grouped[['Исполнитель', 'Точка: Код', 'Дата', 'Проверка']]\n",
    "\n",
    "result = result.drop_duplicates(subset=['Исполнитель', 'Точка: Код', 'Дата', 'Проверка'])\n",
    "result = result.loc[result['Проверка'] != \"Правильно\"]\n",
    "\n",
    "# sort the data by 'Дата'\n",
    "result = result.sort_values('Дата')\n",
    "\n",
    "# write the result to a new sheet in the Excel file\n",
    "result.to_excel(writer, sheet_name='Проверка', index=False)\n",
    "\n",
    "# save and close the Excel file\n",
    "writer.save()"
   ]
  },
  {
   "cell_type": "markdown",
   "id": "3ae5a8f1",
   "metadata": {},
   "source": [
    "### Оформление таблицы"
   ]
  },
  {
   "cell_type": "code",
   "execution_count": 40,
   "id": "08370137",
   "metadata": {},
   "outputs": [
    {
     "name": "stdout",
     "output_type": "stream",
     "text": [
      "\n",
      "new_format_PMI_ToiMart_Февраль_2023_11472_eR9JjdL.xlsx\n"
     ]
    }
   ],
   "source": [
    "import openpyxl\n",
    "from openpyxl.styles import Border, Side, Alignment, Font\n",
    "\n",
    "# Load the Excel file\n",
    "workbook = openpyxl.load_workbook('new_format_' + name)\n",
    "\n",
    "# Select the sheet you want to format\n",
    "sheet1 = workbook['Данные']\n",
    "sheet2 = workbook['Проверка']\n",
    "\n",
    "# Format sheet1\n",
    "border = Border(left=Side(style='thin'), right=Side(style='thin'), top=Side(style='thin'), bottom=Side(style='thin'))\n",
    "for row in sheet1.iter_rows(min_row=1, max_row=sheet1.max_row, min_col=1, max_col=sheet1.max_column):\n",
    "    for cell in row:\n",
    "        cell.border = border\n",
    "\n",
    "# Format sheet2\n",
    "column_widths = [18] * 5\n",
    "font = Font(bold=True)\n",
    "for col in range(1, sheet2.max_column+1):\n",
    "    sheet2.cell(row=1, column=col).font = font\n",
    "    sheet2.column_dimensions[openpyxl.utils.get_column_letter(col)].width = column_widths[col-1]\n",
    "sheet2.row_dimensions[1].height = 36\n",
    "for row in sheet2.iter_rows(min_row=1, max_row=sheet2.max_row, min_col=1, max_col=sheet2.max_column):\n",
    "    for cell in row:\n",
    "        cell.alignment = Alignment(horizontal='center', vertical='center', wrap_text=True)\n",
    "        cell.border = border\n",
    "\n",
    "# Save the updated Excel file\n",
    "workbook.save('new_format_' + name)\n",
    "\n",
    "print('\\n'+'new_format_' + name)"
   ]
  },
  {
   "cell_type": "code",
   "execution_count": 41,
   "id": "4a2dbddb",
   "metadata": {},
   "outputs": [
    {
     "data": {
      "text/plain": [
       "Правильно                                      524\n",
       "Анкет \"До\" больше одной                         25\n",
       "Анкет \"После\" больше одной                       9\n",
       "Не хватает анкеты \"После\"                        2\n",
       "Не хватает анкеты \"До\"                           2\n",
       "Анкет \"До\" больше одной, не хватает \"После\"      2\n",
       "Name: Проверка, dtype: int64"
      ]
     },
     "execution_count": 41,
     "metadata": {},
     "output_type": "execute_result"
    }
   ],
   "source": [
    "df['Проверка'].value_counts()"
   ]
  },
  {
   "cell_type": "code",
   "execution_count": null,
   "id": "0e225d0d",
   "metadata": {},
   "outputs": [],
   "source": []
  }
 ],
 "metadata": {
  "kernelspec": {
   "display_name": "Python 3 (ipykernel)",
   "language": "python",
   "name": "python3"
  },
  "language_info": {
   "codemirror_mode": {
    "name": "ipython",
    "version": 3
   },
   "file_extension": ".py",
   "mimetype": "text/x-python",
   "name": "python",
   "nbconvert_exporter": "python",
   "pygments_lexer": "ipython3",
   "version": "3.10.10"
  }
 },
 "nbformat": 4,
 "nbformat_minor": 5
}
