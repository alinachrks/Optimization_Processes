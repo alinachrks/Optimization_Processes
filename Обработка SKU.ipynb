{
 "cells": [
  {
   "cell_type": "markdown",
   "id": "4f95a26b",
   "metadata": {},
   "source": [
    "## Обработка SKU"
   ]
  },
  {
   "cell_type": "code",
   "execution_count": 18,
   "id": "f57d323c",
   "metadata": {},
   "outputs": [
    {
     "name": "stdout",
     "output_type": "stream",
     "text": [
      "Введите имя файла (отчёт): Отчет_PMI_Dina_Anvar_12_Февраль\n"
     ]
    }
   ],
   "source": [
    "import pandas as pd\n",
    "import warnings\n",
    "warnings.filterwarnings('ignore')\n",
    "\n",
    "name = input('Введите имя файла (отчёт): ')\n",
    "name = name + '.xlsx'\n",
    "df = pd.read_excel(name, sheet_name='Данные')"
   ]
  },
  {
   "cell_type": "code",
   "execution_count": 19,
   "id": "34f8a8a1",
   "metadata": {},
   "outputs": [
    {
     "name": "stdout",
     "output_type": "stream",
     "text": [
      "\n",
      "Файл сохранён под именем: new_format_Отчет_PMI_Dina_Anvar_12_Февраль.xlsx\n"
     ]
    }
   ],
   "source": [
    "def add_missing_names(before, after):\n",
    "    if isinstance(before, float) or isinstance(after, float):\n",
    "        if before != before:\n",
    "            return after\n",
    "        return before\n",
    "    before_set = set(before.split(\"; \"))\n",
    "    after_set = set(after.split(\"; \"))\n",
    "    missing = after_set - before_set\n",
    "    if missing:\n",
    "        before = before + \"; \" + \"; \".join(missing)\n",
    "    if isinstance(before, str):\n",
    "        before = before.replace(\"nan\", \"\")\n",
    "    return before.rstrip(\"; \")\n",
    "\n",
    "def compare_columns(df, before_cols, after_cols):\n",
    "    result_cols = []\n",
    "    for i in range(0, len(before_cols)):\n",
    "        before_col = before_cols[i]\n",
    "        after_col = after_cols[i]\n",
    "        result_col = []\n",
    "        for j in range(len(df[before_col])-1):\n",
    "            before = df[before_col][j]\n",
    "            after = df[after_col][j+1]\n",
    "            if pd.isna(before):\n",
    "                result_col.append(after)\n",
    "            else:\n",
    "                before_set = set(str(before).split(\"; \"))\n",
    "                after_set = set(str(after).split(\"; \"))\n",
    "                missing = after_set - before_set\n",
    "                if missing:\n",
    "                    before = str(before) + \"; \" + \"; \".join(missing)\n",
    "                result_col.append(before)\n",
    "        result_col = [str(i).replace('nan', '') for i in result_col]\n",
    "        result_col = [i.rstrip(\"; \") for i in result_col]\n",
    "        result_cols.append((before_col, result_col))\n",
    "    return result_cols\n",
    "\n",
    "\n",
    "# Load the existing table into a Pandas DataFrame\n",
    "#df = pd.read_excel('Отчет_PMI_Magnum_13_Февраль.xlsx', sheet_name='Данные')\n",
    "\n",
    "before_cols = [col for col in df.columns if \"Отметьте отсутствие позиции до работы _Касса \" in col]\n",
    "\n",
    "# Get the names of the after columns\n",
    "after_cols = [col for col in df.columns if \"Отметьте отсутствие позиции после работы _Касса \" in col]\n",
    "\n",
    "# Call the compare_columns function and store the result in a list of tuples\n",
    "result = compare_columns(df, before_cols, after_cols)\n",
    "\n",
    "# Create a new empty DataFrame with the same number of rows as the original DataFrame\n",
    "result_df = pd.DataFrame(index=df.index)\n",
    "\n",
    "# Loop through the results for each \"before\" column and assign the corresponding \"after\" column to the result DataFrame\n",
    "for before_col, result_col in result:\n",
    "    after_col = before_col.replace('Отметьте отсутствие позиции до работы', 'Отметьте отсутствие позиции после работы')\n",
    "    result_df[before_col] = result_col + [None]\n",
    "\n",
    "df.update(result_df)\n",
    "\n",
    "# write data to Excel without hyperlinks\n",
    "with pd.ExcelWriter('new_'+name, engine='openpyxl') as writer:\n",
    "    df.to_excel(writer, sheet_name='Данные', index=False)\n",
    "    workbook = writer.book\n",
    "    worksheet = writer.sheets['Данные']\n",
    "    worksheet.column_dimensions['A'].width = 30\n",
    "        \n",
    "# Save the result to a new Excel\n",
    "#df.to_excel('new_Отчет_PMI_Magnum_13_Февраль.xlsx.xlsx')\n",
    "print('\\n'+'Файл сохранён под именем: new_format_' + name)"
   ]
  },
  {
   "cell_type": "markdown",
   "id": "a5362e5e",
   "metadata": {},
   "source": [
    "Если вышла ошибка, то нужно выполнить следующую ячейку (это только для первого раза)"
   ]
  },
  {
   "cell_type": "code",
   "execution_count": 5,
   "id": "c673b13d",
   "metadata": {},
   "outputs": [
    {
     "name": "stdout",
     "output_type": "stream",
     "text": [
      "Requirement already satisfied: XlsxWriter in c:\\users\\kasutaja\\appdata\\local\\packages\\pythonsoftwarefoundation.python.3.10_qbz5n2kfra8p0\\localcache\\local-packages\\python310\\site-packages (3.0.8)\n",
      "Note: you may need to restart the kernel to use updated packages.\n"
     ]
    }
   ],
   "source": [
    "pip install XlsxWriter"
   ]
  }
 ],
 "metadata": {
  "kernelspec": {
   "display_name": "Python 3 (ipykernel)",
   "language": "python",
   "name": "python3"
  },
  "language_info": {
   "codemirror_mode": {
    "name": "ipython",
    "version": 3
   },
   "file_extension": ".py",
   "mimetype": "text/x-python",
   "name": "python",
   "nbconvert_exporter": "python",
   "pygments_lexer": "ipython3",
   "version": "3.10.10"
  }
 },
 "nbformat": 4,
 "nbformat_minor": 5
}
